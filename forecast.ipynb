{
 "cells": [
  {
   "cell_type": "markdown",
   "metadata": {},
   "source": [
    "# Lets start by importing the required libraries"
   ]
  },
  {
   "cell_type": "code",
   "execution_count": 1,
   "metadata": {},
   "outputs": [
    {
     "name": "stdout",
     "output_type": "stream",
     "text": [
      "Requirement already satisfied: prophet in c:\\users\\bmsto\\anaconda3\\envs\\cash-practice\\lib\\site-packages (1.1.5)\n",
      "Requirement already satisfied: cmdstanpy>=1.0.4 in c:\\users\\bmsto\\anaconda3\\envs\\cash-practice\\lib\\site-packages (from prophet) (1.2.0)\n",
      "Requirement already satisfied: numpy>=1.15.4 in c:\\users\\bmsto\\anaconda3\\envs\\cash-practice\\lib\\site-packages (from prophet) (1.26.2)\n",
      "Requirement already satisfied: matplotlib>=2.0.0 in c:\\users\\bmsto\\anaconda3\\envs\\cash-practice\\lib\\site-packages (from prophet) (3.8.1)\n",
      "Requirement already satisfied: pandas>=1.0.4 in c:\\users\\bmsto\\anaconda3\\envs\\cash-practice\\lib\\site-packages (from prophet) (2.1.3)\n",
      "Requirement already satisfied: holidays>=0.25 in c:\\users\\bmsto\\anaconda3\\envs\\cash-practice\\lib\\site-packages (from prophet) (0.39)\n",
      "Requirement already satisfied: tqdm>=4.36.1 in c:\\users\\bmsto\\anaconda3\\envs\\cash-practice\\lib\\site-packages (from prophet) (4.66.1)\n",
      "Requirement already satisfied: importlib-resources in c:\\users\\bmsto\\anaconda3\\envs\\cash-practice\\lib\\site-packages (from prophet) (6.1.1)\n",
      "Requirement already satisfied: stanio~=0.3.0 in c:\\users\\bmsto\\anaconda3\\envs\\cash-practice\\lib\\site-packages (from cmdstanpy>=1.0.4->prophet) (0.3.0)\n",
      "Requirement already satisfied: python-dateutil in c:\\users\\bmsto\\anaconda3\\envs\\cash-practice\\lib\\site-packages (from holidays>=0.25->prophet) (2.8.2)\n",
      "Requirement already satisfied: contourpy>=1.0.1 in c:\\users\\bmsto\\anaconda3\\envs\\cash-practice\\lib\\site-packages (from matplotlib>=2.0.0->prophet) (1.2.0)\n",
      "Requirement already satisfied: cycler>=0.10 in c:\\users\\bmsto\\anaconda3\\envs\\cash-practice\\lib\\site-packages (from matplotlib>=2.0.0->prophet) (0.12.1)\n",
      "Requirement already satisfied: fonttools>=4.22.0 in c:\\users\\bmsto\\anaconda3\\envs\\cash-practice\\lib\\site-packages (from matplotlib>=2.0.0->prophet) (4.44.0)\n",
      "Requirement already satisfied: kiwisolver>=1.3.1 in c:\\users\\bmsto\\anaconda3\\envs\\cash-practice\\lib\\site-packages (from matplotlib>=2.0.0->prophet) (1.4.5)\n",
      "Requirement already satisfied: packaging>=20.0 in c:\\users\\bmsto\\anaconda3\\envs\\cash-practice\\lib\\site-packages (from matplotlib>=2.0.0->prophet) (23.2)\n",
      "Requirement already satisfied: pillow>=8 in c:\\users\\bmsto\\anaconda3\\envs\\cash-practice\\lib\\site-packages (from matplotlib>=2.0.0->prophet) (10.1.0)\n",
      "Requirement already satisfied: pyparsing>=2.3.1 in c:\\users\\bmsto\\anaconda3\\envs\\cash-practice\\lib\\site-packages (from matplotlib>=2.0.0->prophet) (3.1.1)\n",
      "Requirement already satisfied: pytz>=2020.1 in c:\\users\\bmsto\\anaconda3\\envs\\cash-practice\\lib\\site-packages (from pandas>=1.0.4->prophet) (2023.3.post1)\n",
      "Requirement already satisfied: tzdata>=2022.1 in c:\\users\\bmsto\\anaconda3\\envs\\cash-practice\\lib\\site-packages (from pandas>=1.0.4->prophet) (2023.3)\n",
      "Requirement already satisfied: colorama in c:\\users\\bmsto\\anaconda3\\envs\\cash-practice\\lib\\site-packages (from tqdm>=4.36.1->prophet) (0.4.6)\n",
      "Requirement already satisfied: six>=1.5 in c:\\users\\bmsto\\anaconda3\\envs\\cash-practice\\lib\\site-packages (from python-dateutil->holidays>=0.25->prophet) (1.16.0)\n"
     ]
    }
   ],
   "source": [
    "!pip install prophet"
   ]
  },
  {
   "cell_type": "code",
   "execution_count": 1,
   "metadata": {},
   "outputs": [
    {
     "name": "stdout",
     "output_type": "stream",
     "text": [
      "Requirement already satisfied: tpqoa in c:\\users\\bmsto\\appdata\\roaming\\python\\python310\\site-packages (0.0.56)\n",
      "Requirement already satisfied: v20==3.0.25.0 in c:\\users\\bmsto\\anaconda3\\lib\\site-packages (from tpqoa) (3.0.25.0)\n",
      "Requirement already satisfied: pyyaml in c:\\users\\bmsto\\anaconda3\\lib\\site-packages (from tpqoa) (6.0.1)\n",
      "Requirement already satisfied: requests in c:\\users\\bmsto\\anaconda3\\lib\\site-packages (from v20==3.0.25.0->tpqoa) (2.31.0)\n",
      "Requirement already satisfied: ujson in c:\\users\\bmsto\\anaconda3\\lib\\site-packages (from v20==3.0.25.0->tpqoa) (5.4.0)\n",
      "Requirement already satisfied: charset-normalizer<4,>=2 in c:\\users\\bmsto\\anaconda3\\lib\\site-packages (from requests->v20==3.0.25.0->tpqoa) (2.0.4)\n",
      "Requirement already satisfied: idna<4,>=2.5 in c:\\users\\bmsto\\anaconda3\\lib\\site-packages (from requests->v20==3.0.25.0->tpqoa) (3.4)\n",
      "Requirement already satisfied: urllib3<3,>=1.21.1 in c:\\users\\bmsto\\anaconda3\\lib\\site-packages (from requests->v20==3.0.25.0->tpqoa) (1.26.18)\n",
      "Requirement already satisfied: certifi>=2017.4.17 in c:\\users\\bmsto\\anaconda3\\lib\\site-packages (from requests->v20==3.0.25.0->tpqoa) (2023.11.17)\n"
     ]
    }
   ],
   "source": [
    "!pip install tpqoa"
   ]
  },
  {
   "cell_type": "code",
   "execution_count": 13,
   "metadata": {},
   "outputs": [
    {
     "name": "stdout",
     "output_type": "stream",
     "text": [
      "Requirement already satisfied: mplfinance in c:\\users\\bmsto\\anaconda3\\lib\\site-packages (0.12.10b0)\n",
      "Requirement already satisfied: matplotlib in c:\\users\\bmsto\\anaconda3\\lib\\site-packages (from mplfinance) (3.4.3)\n",
      "Requirement already satisfied: pandas in c:\\users\\bmsto\\anaconda3\\lib\\site-packages (from mplfinance) (1.5.3)\n",
      "Requirement already satisfied: cycler>=0.10 in c:\\users\\bmsto\\anaconda3\\lib\\site-packages (from matplotlib->mplfinance) (0.12.1)\n",
      "Requirement already satisfied: kiwisolver>=1.0.1 in c:\\users\\bmsto\\anaconda3\\lib\\site-packages (from matplotlib->mplfinance) (1.4.4)\n",
      "Requirement already satisfied: numpy>=1.16 in c:\\users\\bmsto\\anaconda3\\lib\\site-packages (from matplotlib->mplfinance) (1.22.4)\n",
      "Requirement already satisfied: pillow>=6.2.0 in c:\\users\\bmsto\\anaconda3\\lib\\site-packages (from matplotlib->mplfinance) (10.0.1)\n",
      "Requirement already satisfied: pyparsing>=2.2.1 in c:\\users\\bmsto\\anaconda3\\lib\\site-packages (from matplotlib->mplfinance) (3.1.1)\n",
      "Requirement already satisfied: python-dateutil>=2.7 in c:\\users\\bmsto\\anaconda3\\lib\\site-packages (from matplotlib->mplfinance) (2.8.2)\n",
      "Requirement already satisfied: pytz>=2020.1 in c:\\users\\bmsto\\anaconda3\\lib\\site-packages (from pandas->mplfinance) (2023.3.post1)\n",
      "Requirement already satisfied: six>=1.5 in c:\\users\\bmsto\\anaconda3\\lib\\site-packages (from python-dateutil>=2.7->matplotlib->mplfinance) (1.16.0)\n",
      "Note: you may need to restart the kernel to use updated packages.\n"
     ]
    }
   ],
   "source": [
    "pip install mplfinance\n"
   ]
  },
  {
   "cell_type": "code",
   "execution_count": 15,
   "metadata": {},
   "outputs": [],
   "source": [
    "import mplfinance as mpf"
   ]
  },
  {
   "cell_type": "code",
   "execution_count": 2,
   "metadata": {},
   "outputs": [
    {
     "name": "stderr",
     "output_type": "stream",
     "text": [
      "c:\\Users\\bmsto\\anaconda3\\lib\\site-packages\\tqdm\\auto.py:21: TqdmWarning: IProgress not found. Please update jupyter and ipywidgets. See https://ipywidgets.readthedocs.io/en/stable/user_install.html\n",
      "  from .autonotebook import tqdm as notebook_tqdm\n",
      "Importing plotly failed. Interactive plots will not work.\n"
     ]
    }
   ],
   "source": [
    "import pandas as pd \n",
    "import datetime as dt \n",
    "import matplotlib.pyplot as plt \n",
    "import numpy as np \n",
    "from prophet import Prophet\n",
    "from matplotlib.ticker import FuncFormatter\n",
    "import tpqoa"
   ]
  },
  {
   "cell_type": "markdown",
   "metadata": {},
   "source": [
    "## Now lets initialize a connection to the Oanda API which is where we'll be getting historical EURUSD price data from."
   ]
  },
  {
   "cell_type": "code",
   "execution_count": 4,
   "metadata": {},
   "outputs": [],
   "source": [
    "api = tpqoa.tpqoa(\"../oanda.cfg\")"
   ]
  },
  {
   "cell_type": "markdown",
   "metadata": {},
   "source": [
    "### Now we can pull EURUSD data from the Oanda API"
   ]
  },
  {
   "cell_type": "code",
   "execution_count": 6,
   "metadata": {},
   "outputs": [],
   "source": [
    "### Lets get a month worth of bid data on the Daily timeframe\n",
    "december_2023 = api.get_history(instrument = \"EUR_USD\", start = \"2023-12-01\", end = \"2023-12-31\",\n",
    "                granularity = \"D\", price = \"B\")"
   ]
  },
  {
   "cell_type": "code",
   "execution_count": 7,
   "metadata": {},
   "outputs": [
    {
     "data": {
      "text/html": [
       "<div>\n",
       "<style scoped>\n",
       "    .dataframe tbody tr th:only-of-type {\n",
       "        vertical-align: middle;\n",
       "    }\n",
       "\n",
       "    .dataframe tbody tr th {\n",
       "        vertical-align: top;\n",
       "    }\n",
       "\n",
       "    .dataframe thead th {\n",
       "        text-align: right;\n",
       "    }\n",
       "</style>\n",
       "<table border=\"1\" class=\"dataframe\">\n",
       "  <thead>\n",
       "    <tr style=\"text-align: right;\">\n",
       "      <th></th>\n",
       "      <th>o</th>\n",
       "      <th>h</th>\n",
       "      <th>l</th>\n",
       "      <th>c</th>\n",
       "      <th>volume</th>\n",
       "      <th>complete</th>\n",
       "    </tr>\n",
       "    <tr>\n",
       "      <th>time</th>\n",
       "      <th></th>\n",
       "      <th></th>\n",
       "      <th></th>\n",
       "      <th></th>\n",
       "      <th></th>\n",
       "      <th></th>\n",
       "    </tr>\n",
       "  </thead>\n",
       "  <tbody>\n",
       "    <tr>\n",
       "      <th>2023-11-30 22:00:00</th>\n",
       "      <td>1.08840</td>\n",
       "      <td>1.09121</td>\n",
       "      <td>1.08280</td>\n",
       "      <td>1.08783</td>\n",
       "      <td>107289</td>\n",
       "      <td>True</td>\n",
       "    </tr>\n",
       "    <tr>\n",
       "      <th>2023-12-03 22:00:00</th>\n",
       "      <td>1.08764</td>\n",
       "      <td>1.08942</td>\n",
       "      <td>1.08033</td>\n",
       "      <td>1.08353</td>\n",
       "      <td>100649</td>\n",
       "      <td>True</td>\n",
       "    </tr>\n",
       "    <tr>\n",
       "      <th>2023-12-04 22:00:00</th>\n",
       "      <td>1.08346</td>\n",
       "      <td>1.08468</td>\n",
       "      <td>1.07773</td>\n",
       "      <td>1.07975</td>\n",
       "      <td>102469</td>\n",
       "      <td>True</td>\n",
       "    </tr>\n",
       "    <tr>\n",
       "      <th>2023-12-05 22:00:00</th>\n",
       "      <td>1.07908</td>\n",
       "      <td>1.08041</td>\n",
       "      <td>1.07579</td>\n",
       "      <td>1.07635</td>\n",
       "      <td>88864</td>\n",
       "      <td>True</td>\n",
       "    </tr>\n",
       "    <tr>\n",
       "      <th>2023-12-06 22:00:00</th>\n",
       "      <td>1.07636</td>\n",
       "      <td>1.08170</td>\n",
       "      <td>1.07543</td>\n",
       "      <td>1.07922</td>\n",
       "      <td>107483</td>\n",
       "      <td>True</td>\n",
       "    </tr>\n",
       "  </tbody>\n",
       "</table>\n",
       "</div>"
      ],
      "text/plain": [
       "                           o        h        l        c  volume  complete\n",
       "time                                                                     \n",
       "2023-11-30 22:00:00  1.08840  1.09121  1.08280  1.08783  107289      True\n",
       "2023-12-03 22:00:00  1.08764  1.08942  1.08033  1.08353  100649      True\n",
       "2023-12-04 22:00:00  1.08346  1.08468  1.07773  1.07975  102469      True\n",
       "2023-12-05 22:00:00  1.07908  1.08041  1.07579  1.07635   88864      True\n",
       "2023-12-06 22:00:00  1.07636  1.08170  1.07543  1.07922  107483      True"
      ]
     },
     "execution_count": 7,
     "metadata": {},
     "output_type": "execute_result"
    }
   ],
   "source": [
    "december_2023.head()"
   ]
  },
  {
   "cell_type": "markdown",
   "metadata": {},
   "source": [
    "## Now that we have our data, let's drop the columns we dont need."
   ]
  },
  {
   "cell_type": "code",
   "execution_count": 25,
   "metadata": {},
   "outputs": [
    {
     "data": {
      "text/html": [
       "<div>\n",
       "<style scoped>\n",
       "    .dataframe tbody tr th:only-of-type {\n",
       "        vertical-align: middle;\n",
       "    }\n",
       "\n",
       "    .dataframe tbody tr th {\n",
       "        vertical-align: top;\n",
       "    }\n",
       "\n",
       "    .dataframe thead th {\n",
       "        text-align: right;\n",
       "    }\n",
       "</style>\n",
       "<table border=\"1\" class=\"dataframe\">\n",
       "  <thead>\n",
       "    <tr style=\"text-align: right;\">\n",
       "      <th></th>\n",
       "      <th>o</th>\n",
       "      <th>h</th>\n",
       "      <th>l</th>\n",
       "      <th>c</th>\n",
       "    </tr>\n",
       "    <tr>\n",
       "      <th>time</th>\n",
       "      <th></th>\n",
       "      <th></th>\n",
       "      <th></th>\n",
       "      <th></th>\n",
       "    </tr>\n",
       "  </thead>\n",
       "  <tbody>\n",
       "    <tr>\n",
       "      <th>2023-11-30 22:00:00</th>\n",
       "      <td>1.08840</td>\n",
       "      <td>1.09121</td>\n",
       "      <td>1.08280</td>\n",
       "      <td>1.08783</td>\n",
       "    </tr>\n",
       "    <tr>\n",
       "      <th>2023-12-03 22:00:00</th>\n",
       "      <td>1.08764</td>\n",
       "      <td>1.08942</td>\n",
       "      <td>1.08033</td>\n",
       "      <td>1.08353</td>\n",
       "    </tr>\n",
       "    <tr>\n",
       "      <th>2023-12-04 22:00:00</th>\n",
       "      <td>1.08346</td>\n",
       "      <td>1.08468</td>\n",
       "      <td>1.07773</td>\n",
       "      <td>1.07975</td>\n",
       "    </tr>\n",
       "    <tr>\n",
       "      <th>2023-12-05 22:00:00</th>\n",
       "      <td>1.07908</td>\n",
       "      <td>1.08041</td>\n",
       "      <td>1.07579</td>\n",
       "      <td>1.07635</td>\n",
       "    </tr>\n",
       "    <tr>\n",
       "      <th>2023-12-06 22:00:00</th>\n",
       "      <td>1.07636</td>\n",
       "      <td>1.08170</td>\n",
       "      <td>1.07543</td>\n",
       "      <td>1.07922</td>\n",
       "    </tr>\n",
       "  </tbody>\n",
       "</table>\n",
       "</div>"
      ],
      "text/plain": [
       "                           o        h        l        c\n",
       "time                                                   \n",
       "2023-11-30 22:00:00  1.08840  1.09121  1.08280  1.08783\n",
       "2023-12-03 22:00:00  1.08764  1.08942  1.08033  1.08353\n",
       "2023-12-04 22:00:00  1.08346  1.08468  1.07773  1.07975\n",
       "2023-12-05 22:00:00  1.07908  1.08041  1.07579  1.07635\n",
       "2023-12-06 22:00:00  1.07636  1.08170  1.07543  1.07922"
      ]
     },
     "execution_count": 25,
     "metadata": {},
     "output_type": "execute_result"
    }
   ],
   "source": [
    "#lets change the column names, so we can properly plot with mpf\n",
    "plot_1 = december_2023.drop(columns=['volume', 'complete'])\n",
    "plot_1.head()"
   ]
  },
  {
   "cell_type": "markdown",
   "metadata": {},
   "source": [
    "## Now we can visualize our data."
   ]
  },
  {
   "cell_type": "code",
   "execution_count": 34,
   "metadata": {},
   "outputs": [
    {
     "data": {
      "image/png": "[encoded data removed]",
      "text/plain": [
       "<Figure size 800x575 with 2 Axes>"
      ]
     },
     "metadata": {},
     "output_type": "display_data"
    }
   ],
   "source": [
    "\n",
    "plot_1.columns = ['Open', 'High', 'Low', 'Close']\n",
    "\n",
    "# Create a custom style\n",
    "mc = mpf.make_marketcolors(up='lightgreen', down='black', inherit=True)\n",
    "s  = mpf.make_mpf_style(marketcolors=mc)\n",
    "\n",
    "mpf.plot(plot_1, type='candle', style=s)\n",
    "\n",
    "plt.show()\n"
   ]
  },
  {
   "cell_type": "markdown",
   "metadata": {},
   "source": [
    "## Now lets make our data interpretable for the phophet forecasting model."
   ]
  },
  {
   "cell_type": "code",
   "execution_count": 43,
   "metadata": {},
   "outputs": [],
   "source": [
    "decemeber_2023_prophet = december_2023.drop(columns=['o', 'h', 'l','volume','complete'])"
   ]
  },
  {
   "cell_type": "code",
   "execution_count": 44,
   "metadata": {},
   "outputs": [
    {
     "data": {
      "text/html": [
       "<div>\n",
       "<style scoped>\n",
       "    .dataframe tbody tr th:only-of-type {\n",
       "        vertical-align: middle;\n",
       "    }\n",
       "\n",
       "    .dataframe tbody tr th {\n",
       "        vertical-align: top;\n",
       "    }\n",
       "\n",
       "    .dataframe thead th {\n",
       "        text-align: right;\n",
       "    }\n",
       "</style>\n",
       "<table border=\"1\" class=\"dataframe\">\n",
       "  <thead>\n",
       "    <tr style=\"text-align: right;\">\n",
       "      <th></th>\n",
       "      <th>c</th>\n",
       "    </tr>\n",
       "    <tr>\n",
       "      <th>time</th>\n",
       "      <th></th>\n",
       "    </tr>\n",
       "  </thead>\n",
       "  <tbody>\n",
       "    <tr>\n",
       "      <th>2023-11-30 22:00:00</th>\n",
       "      <td>1.08783</td>\n",
       "    </tr>\n",
       "    <tr>\n",
       "      <th>2023-12-03 22:00:00</th>\n",
       "      <td>1.08353</td>\n",
       "    </tr>\n",
       "    <tr>\n",
       "      <th>2023-12-04 22:00:00</th>\n",
       "      <td>1.07975</td>\n",
       "    </tr>\n",
       "    <tr>\n",
       "      <th>2023-12-05 22:00:00</th>\n",
       "      <td>1.07635</td>\n",
       "    </tr>\n",
       "    <tr>\n",
       "      <th>2023-12-06 22:00:00</th>\n",
       "      <td>1.07922</td>\n",
       "    </tr>\n",
       "  </tbody>\n",
       "</table>\n",
       "</div>"
      ],
      "text/plain": [
       "                           c\n",
       "time                        \n",
       "2023-11-30 22:00:00  1.08783\n",
       "2023-12-03 22:00:00  1.08353\n",
       "2023-12-04 22:00:00  1.07975\n",
       "2023-12-05 22:00:00  1.07635\n",
       "2023-12-06 22:00:00  1.07922"
      ]
     },
     "execution_count": 44,
     "metadata": {},
     "output_type": "execute_result"
    }
   ],
   "source": [
    "decemeber_2023_prophet.head()"
   ]
  },
  {
   "cell_type": "code",
   "execution_count": 45,
   "metadata": {},
   "outputs": [],
   "source": [
    "decemeber_2023_prophet = decemeber_2023_prophet.reset_index()\n"
   ]
  },
  {
   "cell_type": "code",
   "execution_count": 46,
   "metadata": {},
   "outputs": [
    {
     "data": {
      "text/html": [
       "<div>\n",
       "<style scoped>\n",
       "    .dataframe tbody tr th:only-of-type {\n",
       "        vertical-align: middle;\n",
       "    }\n",
       "\n",
       "    .dataframe tbody tr th {\n",
       "        vertical-align: top;\n",
       "    }\n",
       "\n",
       "    .dataframe thead th {\n",
       "        text-align: right;\n",
       "    }\n",
       "</style>\n",
       "<table border=\"1\" class=\"dataframe\">\n",
       "  <thead>\n",
       "    <tr style=\"text-align: right;\">\n",
       "      <th></th>\n",
       "      <th>time</th>\n",
       "      <th>c</th>\n",
       "    </tr>\n",
       "  </thead>\n",
       "  <tbody>\n",
       "    <tr>\n",
       "      <th>0</th>\n",
       "      <td>2023-11-30 22:00:00</td>\n",
       "      <td>1.08783</td>\n",
       "    </tr>\n",
       "    <tr>\n",
       "      <th>1</th>\n",
       "      <td>2023-12-03 22:00:00</td>\n",
       "      <td>1.08353</td>\n",
       "    </tr>\n",
       "    <tr>\n",
       "      <th>2</th>\n",
       "      <td>2023-12-04 22:00:00</td>\n",
       "      <td>1.07975</td>\n",
       "    </tr>\n",
       "    <tr>\n",
       "      <th>3</th>\n",
       "      <td>2023-12-05 22:00:00</td>\n",
       "      <td>1.07635</td>\n",
       "    </tr>\n",
       "    <tr>\n",
       "      <th>4</th>\n",
       "      <td>2023-12-06 22:00:00</td>\n",
       "      <td>1.07922</td>\n",
       "    </tr>\n",
       "  </tbody>\n",
       "</table>\n",
       "</div>"
      ],
      "text/plain": [
       "                 time        c\n",
       "0 2023-11-30 22:00:00  1.08783\n",
       "1 2023-12-03 22:00:00  1.08353\n",
       "2 2023-12-04 22:00:00  1.07975\n",
       "3 2023-12-05 22:00:00  1.07635\n",
       "4 2023-12-06 22:00:00  1.07922"
      ]
     },
     "execution_count": 46,
     "metadata": {},
     "output_type": "execute_result"
    }
   ],
   "source": [
    "decemeber_2023_prophet.head()"
   ]
  },
  {
   "cell_type": "code",
   "execution_count": 50,
   "metadata": {},
   "outputs": [
    {
     "data": {
      "text/html": [
       "<div>\n",
       "<style scoped>\n",
       "    .dataframe tbody tr th:only-of-type {\n",
       "        vertical-align: middle;\n",
       "    }\n",
       "\n",
       "    .dataframe tbody tr th {\n",
       "        vertical-align: top;\n",
       "    }\n",
       "\n",
       "    .dataframe thead th {\n",
       "        text-align: right;\n",
       "    }\n",
       "</style>\n",
       "<table border=\"1\" class=\"dataframe\">\n",
       "  <thead>\n",
       "    <tr style=\"text-align: right;\">\n",
       "      <th></th>\n",
       "      <th>ds</th>\n",
       "      <th>y</th>\n",
       "    </tr>\n",
       "  </thead>\n",
       "  <tbody>\n",
       "    <tr>\n",
       "      <th>0</th>\n",
       "      <td>2023-11-30 22:00:00</td>\n",
       "      <td>1.08783</td>\n",
       "    </tr>\n",
       "    <tr>\n",
       "      <th>1</th>\n",
       "      <td>2023-12-03 22:00:00</td>\n",
       "      <td>1.08353</td>\n",
       "    </tr>\n",
       "    <tr>\n",
       "      <th>2</th>\n",
       "      <td>2023-12-04 22:00:00</td>\n",
       "      <td>1.07975</td>\n",
       "    </tr>\n",
       "    <tr>\n",
       "      <th>3</th>\n",
       "      <td>2023-12-05 22:00:00</td>\n",
       "      <td>1.07635</td>\n",
       "    </tr>\n",
       "    <tr>\n",
       "      <th>4</th>\n",
       "      <td>2023-12-06 22:00:00</td>\n",
       "      <td>1.07922</td>\n",
       "    </tr>\n",
       "  </tbody>\n",
       "</table>\n",
       "</div>"
      ],
      "text/plain": [
       "                   ds        y\n",
       "0 2023-11-30 22:00:00  1.08783\n",
       "1 2023-12-03 22:00:00  1.08353\n",
       "2 2023-12-04 22:00:00  1.07975\n",
       "3 2023-12-05 22:00:00  1.07635\n",
       "4 2023-12-06 22:00:00  1.07922"
      ]
     },
     "execution_count": 50,
     "metadata": {},
     "output_type": "execute_result"
    }
   ],
   "source": [
    "december_2023_prophet = decemeber_2023_prophet.rename(columns={'time': 'ds', 'c': 'y'})\n",
    "december_2023_prophet.head()"
   ]
  },
  {
   "cell_type": "markdown",
   "metadata": {},
   "source": [
    "## Now lets initial our prophet model to make some predictions for January 2024"
   ]
  },
  {
   "cell_type": "code",
   "execution_count": 36,
   "metadata": {},
   "outputs": [],
   "source": [
    "model = Prophet()"
   ]
  },
  {
   "cell_type": "code",
   "execution_count": 51,
   "metadata": {},
   "outputs": [
    {
     "name": "stderr",
     "output_type": "stream",
     "text": [
      "23:07:41 - cmdstanpy - INFO - Chain [1] start processing\n"
     ]
    },
    {
     "name": "stderr",
     "output_type": "stream",
     "text": [
      "23:07:42 - cmdstanpy - INFO - Chain [1] done processing\n"
     ]
    },
    {
     "data": {
      "text/plain": [
       "<prophet.forecaster.Prophet at 0x260906d96c0>"
      ]
     },
     "execution_count": 51,
     "metadata": {},
     "output_type": "execute_result"
    }
   ],
   "source": [
    "model.fit(december_2023_prophet)"
   ]
  },
  {
   "cell_type": "markdown",
   "metadata": {},
   "source": [
    "## Now lets create a place holder for our prediction in january."
   ]
  },
  {
   "cell_type": "code",
   "execution_count": 53,
   "metadata": {},
   "outputs": [
    {
     "data": {
      "text/html": [
       "<div>\n",
       "<style scoped>\n",
       "    .dataframe tbody tr th:only-of-type {\n",
       "        vertical-align: middle;\n",
       "    }\n",
       "\n",
       "    .dataframe tbody tr th {\n",
       "        vertical-align: top;\n",
       "    }\n",
       "\n",
       "    .dataframe thead th {\n",
       "        text-align: right;\n",
       "    }\n",
       "</style>\n",
       "<table border=\"1\" class=\"dataframe\">\n",
       "  <thead>\n",
       "    <tr style=\"text-align: right;\">\n",
       "      <th></th>\n",
       "      <th>ds</th>\n",
       "    </tr>\n",
       "  </thead>\n",
       "  <tbody>\n",
       "    <tr>\n",
       "      <th>0</th>\n",
       "      <td>2023-11-30 22:00:00</td>\n",
       "    </tr>\n",
       "    <tr>\n",
       "      <th>1</th>\n",
       "      <td>2023-12-03 22:00:00</td>\n",
       "    </tr>\n",
       "    <tr>\n",
       "      <th>2</th>\n",
       "      <td>2023-12-04 22:00:00</td>\n",
       "    </tr>\n",
       "    <tr>\n",
       "      <th>3</th>\n",
       "      <td>2023-12-05 22:00:00</td>\n",
       "    </tr>\n",
       "    <tr>\n",
       "      <th>4</th>\n",
       "      <td>2023-12-06 22:00:00</td>\n",
       "    </tr>\n",
       "  </tbody>\n",
       "</table>\n",
       "</div>"
      ],
      "text/plain": [
       "                   ds\n",
       "0 2023-11-30 22:00:00\n",
       "1 2023-12-03 22:00:00\n",
       "2 2023-12-04 22:00:00\n",
       "3 2023-12-05 22:00:00\n",
       "4 2023-12-06 22:00:00"
      ]
     },
     "execution_count": 53,
     "metadata": {},
     "output_type": "execute_result"
    }
   ],
   "source": [
    "january = model.make_future_dataframe(periods=31, freq=\"D\")\n",
    "january.head()"
   ]
  },
  {
   "cell_type": "markdown",
   "metadata": {},
   "source": [
    "## Now we're ready to predict the future ;)"
   ]
  },
  {
   "cell_type": "code",
   "execution_count": 54,
   "metadata": {},
   "outputs": [
    {
     "data": {
      "text/html": [
       "<div>\n",
       "<style scoped>\n",
       "    .dataframe tbody tr th:only-of-type {\n",
       "        vertical-align: middle;\n",
       "    }\n",
       "\n",
       "    .dataframe tbody tr th {\n",
       "        vertical-align: top;\n",
       "    }\n",
       "\n",
       "    .dataframe thead th {\n",
       "        text-align: right;\n",
       "    }\n",
       "</style>\n",
       "<table border=\"1\" class=\"dataframe\">\n",
       "  <thead>\n",
       "    <tr style=\"text-align: right;\">\n",
       "      <th></th>\n",
       "      <th>ds</th>\n",
       "      <th>trend</th>\n",
       "      <th>yhat_lower</th>\n",
       "      <th>yhat_upper</th>\n",
       "      <th>trend_lower</th>\n",
       "      <th>trend_upper</th>\n",
       "      <th>additive_terms</th>\n",
       "      <th>additive_terms_lower</th>\n",
       "      <th>additive_terms_upper</th>\n",
       "      <th>weekly</th>\n",
       "      <th>weekly_lower</th>\n",
       "      <th>weekly_upper</th>\n",
       "      <th>multiplicative_terms</th>\n",
       "      <th>multiplicative_terms_lower</th>\n",
       "      <th>multiplicative_terms_upper</th>\n",
       "      <th>yhat</th>\n",
       "    </tr>\n",
       "  </thead>\n",
       "  <tbody>\n",
       "    <tr>\n",
       "      <th>0</th>\n",
       "      <td>2023-11-30 22:00:00</td>\n",
       "      <td>0.605848</td>\n",
       "      <td>1.085463</td>\n",
       "      <td>1.090747</td>\n",
       "      <td>0.605848</td>\n",
       "      <td>0.605848</td>\n",
       "      <td>0.482360</td>\n",
       "      <td>0.482360</td>\n",
       "      <td>0.482360</td>\n",
       "      <td>0.482360</td>\n",
       "      <td>0.482360</td>\n",
       "      <td>0.482360</td>\n",
       "      <td>0.0</td>\n",
       "      <td>0.0</td>\n",
       "      <td>0.0</td>\n",
       "      <td>1.088208</td>\n",
       "    </tr>\n",
       "    <tr>\n",
       "      <th>1</th>\n",
       "      <td>2023-12-03 22:00:00</td>\n",
       "      <td>0.597931</td>\n",
       "      <td>1.079118</td>\n",
       "      <td>1.084230</td>\n",
       "      <td>0.597931</td>\n",
       "      <td>0.597931</td>\n",
       "      <td>0.483622</td>\n",
       "      <td>0.483622</td>\n",
       "      <td>0.483622</td>\n",
       "      <td>0.483622</td>\n",
       "      <td>0.483622</td>\n",
       "      <td>0.483622</td>\n",
       "      <td>0.0</td>\n",
       "      <td>0.0</td>\n",
       "      <td>0.0</td>\n",
       "      <td>1.081553</td>\n",
       "    </tr>\n",
       "    <tr>\n",
       "      <th>2</th>\n",
       "      <td>2023-12-04 22:00:00</td>\n",
       "      <td>0.595292</td>\n",
       "      <td>1.077229</td>\n",
       "      <td>1.082355</td>\n",
       "      <td>0.595292</td>\n",
       "      <td>0.595292</td>\n",
       "      <td>0.484473</td>\n",
       "      <td>0.484473</td>\n",
       "      <td>0.484473</td>\n",
       "      <td>0.484473</td>\n",
       "      <td>0.484473</td>\n",
       "      <td>0.484473</td>\n",
       "      <td>0.0</td>\n",
       "      <td>0.0</td>\n",
       "      <td>0.0</td>\n",
       "      <td>1.079765</td>\n",
       "    </tr>\n",
       "    <tr>\n",
       "      <th>3</th>\n",
       "      <td>2023-12-05 22:00:00</td>\n",
       "      <td>0.592653</td>\n",
       "      <td>1.075401</td>\n",
       "      <td>1.080571</td>\n",
       "      <td>0.592653</td>\n",
       "      <td>0.592653</td>\n",
       "      <td>0.485273</td>\n",
       "      <td>0.485273</td>\n",
       "      <td>0.485273</td>\n",
       "      <td>0.485273</td>\n",
       "      <td>0.485273</td>\n",
       "      <td>0.485273</td>\n",
       "      <td>0.0</td>\n",
       "      <td>0.0</td>\n",
       "      <td>0.0</td>\n",
       "      <td>1.077926</td>\n",
       "    </tr>\n",
       "    <tr>\n",
       "      <th>4</th>\n",
       "      <td>2023-12-06 22:00:00</td>\n",
       "      <td>0.592347</td>\n",
       "      <td>1.077285</td>\n",
       "      <td>1.082290</td>\n",
       "      <td>0.592347</td>\n",
       "      <td>0.592347</td>\n",
       "      <td>0.487440</td>\n",
       "      <td>0.487440</td>\n",
       "      <td>0.487440</td>\n",
       "      <td>0.487440</td>\n",
       "      <td>0.487440</td>\n",
       "      <td>0.487440</td>\n",
       "      <td>0.0</td>\n",
       "      <td>0.0</td>\n",
       "      <td>0.0</td>\n",
       "      <td>1.079787</td>\n",
       "    </tr>\n",
       "  </tbody>\n",
       "</table>\n",
       "</div>"
      ],
      "text/plain": [
       "                   ds     trend  yhat_lower  yhat_upper  trend_lower  \\\n",
       "0 2023-11-30 22:00:00  0.605848    1.085463    1.090747     0.605848   \n",
       "1 2023-12-03 22:00:00  0.597931    1.079118    1.084230     0.597931   \n",
       "2 2023-12-04 22:00:00  0.595292    1.077229    1.082355     0.595292   \n",
       "3 2023-12-05 22:00:00  0.592653    1.075401    1.080571     0.592653   \n",
       "4 2023-12-06 22:00:00  0.592347    1.077285    1.082290     0.592347   \n",
       "\n",
       "   trend_upper  additive_terms  additive_terms_lower  additive_terms_upper  \\\n",
       "0     0.605848        0.482360              0.482360              0.482360   \n",
       "1     0.597931        0.483622              0.483622              0.483622   \n",
       "2     0.595292        0.484473              0.484473              0.484473   \n",
       "3     0.592653        0.485273              0.485273              0.485273   \n",
       "4     0.592347        0.487440              0.487440              0.487440   \n",
       "\n",
       "     weekly  weekly_lower  weekly_upper  multiplicative_terms  \\\n",
       "0  0.482360      0.482360      0.482360                   0.0   \n",
       "1  0.483622      0.483622      0.483622                   0.0   \n",
       "2  0.484473      0.484473      0.484473                   0.0   \n",
       "3  0.485273      0.485273      0.485273                   0.0   \n",
       "4  0.487440      0.487440      0.487440                   0.0   \n",
       "\n",
       "   multiplicative_terms_lower  multiplicative_terms_upper      yhat  \n",
       "0                         0.0                         0.0  1.088208  \n",
       "1                         0.0                         0.0  1.081553  \n",
       "2                         0.0                         0.0  1.079765  \n",
       "3                         0.0                         0.0  1.077926  \n",
       "4                         0.0                         0.0  1.079787  "
      ]
     },
     "execution_count": 54,
     "metadata": {},
     "output_type": "execute_result"
    }
   ],
   "source": [
    "january_2024_predictions = model.predict(january)\n",
    "january_2024_predictions.head()"
   ]
  },
  {
   "cell_type": "markdown",
   "metadata": {},
   "source": [
    "## Now let's visualize our predictions"
   ]
  },
  {
   "cell_type": "code",
   "execution_count": 55,
   "metadata": {},
   "outputs": [
    {
     "data": {
      "image/png": "[encoded data removed]",
      "text/plain": [
       "<Figure size 900x600 with 2 Axes>"
      ]
     },
     "execution_count": 55,
     "metadata": {},
     "output_type": "execute_result"
    },
    {
     "data": {
      "image/png": "[encoded data removed]",
      "text/plain": [
       "<Figure size 900x600 with 2 Axes>"
      ]
     },
     "metadata": {},
     "output_type": "display_data"
    }
   ],
   "source": [
    "model.plot_components(january_2024_predictions)"
   ]
  },
  {
   "cell_type": "code",
   "execution_count": 62,
   "metadata": {},
   "outputs": [
    {
     "data": {
      "image/png": "[encoded data removed]",
      "text/plain": [
       "<Figure size 640x480 with 1 Axes>"
      ]
     },
     "metadata": {},
     "output_type": "display_data"
    }
   ],
   "source": [
    "filtered_df = january_2024_predictions[january_2024_predictions['yhat'] > 1.00]\n",
    "\n",
    "filtered_df['yhat'].plot(kind='line', color='red', label='EU Prediction')\n",
    "\n",
    "plt.legend()\n",
    "plt.show()\n"
   ]
  },
  {
   "cell_type": "markdown",
   "metadata": {},
   "source": [
    "### From this data, we can denote that the Prophet model is forecasting an overall bullish month for January. Further analysis will be conducted to determine if the model has accurately forecasted EURUSD prices once January is finished. "
   ]
  }
 ],
 "metadata": {
  "kernelspec": {
   "display_name": "cash-practice",
   "language": "python",
   "name": "python3"
  },
  "language_info": {
   "codemirror_mode": {
    "name": "ipython",
    "version": 3
   },
   "file_extension": ".py",
   "mimetype": "text/x-python",
   "name": "python",
   "nbconvert_exporter": "python",
   "pygments_lexer": "ipython3",
   "version": "3.10.13"
  }
 },
 "nbformat": 4,
 "nbformat_minor": 2
}
